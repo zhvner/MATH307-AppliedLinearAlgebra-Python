{
 "cells": [
  {
   "cell_type": "markdown",
   "id": "dcbe30c6-f959-4ae8-8bf0-e4be46395524",
   "metadata": {},
   "source": [
    "# Least Squares Approximation – Comparison of Methods"
   ]
  },
  {
   "cell_type": "markdown",
   "id": "a42c12e7-62c0-489b-88cc-b99da7414073",
   "metadata": {},
   "source": [
    "In this course, we have learned three different ways to find the least squares approximation to a system $A\\boldsymbol{x}\\approx\\boldsymbol{b}$. In theory, all of them give the same unique answer when $A$ is full rank. However, due to differences in numerical stability, the computed answers might still be different. "
   ]
  },
  {
   "cell_type": "code",
   "execution_count": 1,
   "id": "d17e0112-b957-4939-8258-fc9f1d486c72",
   "metadata": {},
   "outputs": [],
   "source": [
    "import numpy as np\n",
    "import scipy.linalg as la\n",
    "import matplotlib.pyplot as plt\n",
    "import math"
   ]
  },
  {
   "cell_type": "markdown",
   "id": "bb438a69-b05e-4399-aa64-0c3e7722a893",
   "metadata": {},
   "source": [
    "We will first generate some data points. For this example, we take 15 points that come from a quadratic function with some added randomness. "
   ]
  },
  {
   "cell_type": "code",
   "execution_count": 2,
   "id": "a687de05-1cd0-41ee-8000-f91cf5f1010e",
   "metadata": {
    "tags": []
   },
   "outputs": [
    {
     "data": {
      "image/png": "[encoded data removed]",
      "text/plain": [
       "<Figure size 432x288 with 1 Axes>"
      ]
     },
     "metadata": {
      "needs_background": "light"
     },
     "output_type": "display_data"
    }
   ],
   "source": [
    "t = np.arange(0, 30, 2)\n",
    "y = 0.1*(t-10)**2+15*np.random.rand(15)\n",
    "plt.scatter(t,y,alpha=1,lw=0);\n",
    "plt.show()"
   ]
  },
  {
   "cell_type": "markdown",
   "id": "b71a910d-1759-48e3-b254-c3b3a7f8a7de",
   "metadata": {},
   "source": [
    "We now try to fit a polynomial of degree at most 7, $$p(t) = c_0 + c_1 t + \\dots + c_7 t^7$$ to all the data points. This means that we want to solve the system $A\\boldsymbol{c}=\\boldsymbol{y}$, where \n",
    "$$ A = \\begin{bmatrix} 1 & t_1 & t_1^2 & \\dots & t_1^7 \\\\ 1 & t_2 & t_2^2 & \\dots & t_2^7 \\\\ \\vdots & \\vdots & \\vdots & \\ddots & \\vdots \\\\ 1 & t_{15} & t_{15}^2 & \\dots & t_{15}^7 \\end{bmatrix}, \\quad \n",
    "\\boldsymbol{c} = \\begin{bmatrix} c_0 \\\\ c_1 \\\\ \\vdots \\\\ c_7 \\end{bmatrix}, \\quad\n",
    "\\boldsymbol{y} = \\begin{bmatrix} y_1 \\\\ y_2 \\\\ \\vdots \\\\ y_15 \\end{bmatrix}.$$\n",
    "This is an overdetermined system (more equations than unknown variables), so most likely there is no exact solution. Instead, we find the least squares approximation. We will do it using the three different methods we have seen and compare the answers. The key thing to note here is that the matrix $A$ is a Vandermonde matrix with a high condition number. "
   ]
  },
  {
   "cell_type": "code",
   "execution_count": 3,
   "id": "07b75773-7aeb-47d4-b113-632152d8c9a4",
   "metadata": {},
   "outputs": [
    {
     "data": {
      "text/plain": [
       "32655844296.68124"
      ]
     },
     "execution_count": 3,
     "metadata": {},
     "output_type": "execute_result"
    }
   ],
   "source": [
    "A = np.vander(t, 8, increasing='true')\n",
    "np.linalg.cond(A)"
   ]
  },
  {
   "cell_type": "markdown",
   "id": "8f979e76-305f-45fa-9214-26ee5765265e",
   "metadata": {},
   "source": [
    "First we find the solution by solving the normal equations:\n",
    "$$A^T A \\boldsymbol{c} = A^T \\boldsymbol{y}.$$\n",
    "\n",
    "This is the fastest method of the three, but as we square the (already large) condition number in the process, the solution is not so reliable. We get a warning about this when running the Python script. "
   ]
  },
  {
   "cell_type": "code",
   "execution_count": 4,
   "id": "c4af4e21-33cf-4a71-bf5d-ffc9fd110f57",
   "metadata": {
    "tags": []
   },
   "outputs": [
    {
     "name": "stdout",
     "output_type": "stream",
     "text": [
      "[ 1.96614985e+01  3.92495905e-01 -5.64268718e-01  5.68124009e-02\n",
      " -1.93930430e-03  2.30634170e-05 -3.95684498e-12 -4.46579828e-14]\n"
     ]
    },
    {
     "name": "stderr",
     "output_type": "stream",
     "text": [
      "/var/folders/dx/6hm6m2nd0pj389zkmscqftdm0000gn/T/ipykernel_75613/3759883772.py:1: LinAlgWarning: Ill-conditioned matrix (rcond=6.90854e-20): result may not be accurate.\n",
      "  c1 = la.solve(A.T @ A, A.T @ y)\n"
     ]
    }
   ],
   "source": [
    "c1 = la.solve(A.T @ A, A.T @ y)\n",
    "print(c1)"
   ]
  },
  {
   "cell_type": "markdown",
   "id": "896290e8-c8e8-4802-a984-b6c0de134352",
   "metadata": {},
   "source": [
    "We have now found the coefficients $c_0, \\dotsc, c_7$ for the best-fitting degree 7 polynomial. Next we compute the solution using the QR method instead, to see if we get the same answer. In other words, we find the solution to\n",
    "$$R_1 \\boldsymbol{c} = Q_1^T \\boldsymbol{y},$$\n",
    "where $A = Q_1 R_1$ is the thin QR decomposition of the matrix $A$. "
   ]
  },
  {
   "cell_type": "code",
   "execution_count": 5,
   "id": "2717e331-a235-49a3-b149-8faf8e844edf",
   "metadata": {
    "tags": []
   },
   "outputs": [
    {
     "name": "stdout",
     "output_type": "stream",
     "text": [
      "[ 1.97813347e+01  5.91850222e-01 -8.58530145e-01  1.47454116e-01\n",
      " -1.33948230e-02  7.17816171e-04 -2.01118868e-05  2.23199401e-07]\n"
     ]
    }
   ],
   "source": [
    "Q1,R1 = la.qr(A,mode='economic')\n",
    "b = Q1.T @ y\n",
    "c2 = la.solve(R1,b)\n",
    "print(c2)"
   ]
  },
  {
   "cell_type": "markdown",
   "id": "9236acc3-06cf-4b44-9f18-62b0548a0161",
   "metadata": {},
   "source": [
    "There are noticeable differences between this answer and the previous one above. Even though both methods should theoretically give the same solution, if calculations were done exactly, there is a difference due to computational errors. Below is a plot of both solutions; the normal equations solution is in red and the QR solution in blue. "
   ]
  },
  {
   "cell_type": "code",
   "execution_count": 6,
   "id": "d62f22ad-305a-4e87-ad60-b529e5333ed7",
   "metadata": {
    "tags": []
   },
   "outputs": [
    {
     "data": {
      "image/png": "[encoded data removed]",
      "text/plain": [
       "<Figure size 432x288 with 1 Axes>"
      ]
     },
     "metadata": {
      "needs_background": "light"
     },
     "output_type": "display_data"
    }
   ],
   "source": [
    "tf = np.linspace(0,29,100,endpoint=False)\n",
    "y1 = c1[0] + c1[1]*tf + c1[2]*tf**2 + c1[3]*tf**3 + c1[4]*tf**4 + c1[5]*tf**5 + c1[6]*tf**6 + c1[7]*tf**7\n",
    "y2 = c2[0] + c2[1]*tf + c2[2]*tf**2 + c2[3]*tf**3 + c2[4]*tf**4 + c2[5]*tf**5 + c2[6]*tf**6 + c2[7]*tf**7\n",
    "plt.plot(tf,y1,'r',linewidth=2)\n",
    "plt.plot(tf,y2,'b',linewidth=2)\n",
    "plt.scatter(t,y,alpha=1,lw=0);\n",
    "plt.show()"
   ]
  },
  {
   "cell_type": "markdown",
   "id": "17781899-370e-4ddb-842c-f9a7c1e73a9b",
   "metadata": {},
   "source": [
    "Finally, we also have the possibility to find the least squares solution by computing \n",
    "$$\\boldsymbol{c} = A^+ \\boldsymbol{y},$$ \n",
    "where $A^+$ is the pseudoinverse of $A$. We can use the function [numpy.linalg.pinv](https://numpy.org/doc/stable/reference/generated/numpy.linalg.pinv.html) to find the pseudoinverse. "
   ]
  },
  {
   "cell_type": "code",
   "execution_count": 7,
   "id": "515b4158-7187-4618-846d-80e440801780",
   "metadata": {
    "tags": []
   },
   "outputs": [
    {
     "name": "stdout",
     "output_type": "stream",
     "text": [
      "[ 1.97813344e+01  5.91850277e-01 -8.58530149e-01  1.47454116e-01\n",
      " -1.33948230e-02  7.17816171e-04 -2.01118868e-05  2.23199400e-07]\n"
     ]
    }
   ],
   "source": [
    "c3 = np.linalg.pinv(A) @ y\n",
    "print(c3)"
   ]
  },
  {
   "cell_type": "markdown",
   "id": "4ac3e337-dc07-47ca-8b9a-e37b075de9d3",
   "metadata": {
    "tags": []
   },
   "source": [
    "There are some minor differences compared to the QR solution, but the pseudoinverse and QR solutions are very close. If we add a plot of the pseudoinverse solution in green, we can see that the difference to the blue curve is minimal. "
   ]
  },
  {
   "cell_type": "code",
   "execution_count": 8,
   "id": "3c535183-de68-403f-bc93-e234487472af",
   "metadata": {
    "tags": []
   },
   "outputs": [
    {
     "data": {
      "image/png": "[encoded data removed]",
      "text/plain": [
       "<Figure size 432x288 with 1 Axes>"
      ]
     },
     "metadata": {
      "needs_background": "light"
     },
     "output_type": "display_data"
    }
   ],
   "source": [
    "y3 = c3[0] + c3[1]*tf + c3[2]*tf**2 + c3[3]*tf**3 + c3[4]*tf**4 + c3[5]*tf**5 + c3[6]*tf**6 + c3[7]*tf**7\n",
    "plt.plot(tf,y1,'r',linewidth=2)\n",
    "plt.plot(tf,y2,'b',linewidth=2)\n",
    "plt.plot(tf,y3,'g',linewidth=2)\n",
    "plt.scatter(t,y,alpha=1,lw=0);\n",
    "plt.show()"
   ]
  },
  {
   "cell_type": "markdown",
   "id": "f70eaee5-70d0-4938-8561-df24ebd56965",
   "metadata": {},
   "source": [
    "So the there options we have are:\n",
    "1. **Normal equations**: This is the fastest method of the three. If we *know* that the matrix $A$ is well-conditioned, then we may use this method for efficiency. However, in practice it is seldom used due to its worse numerical stability. \n",
    "2. **QR method**: This is likely the most common choice for finding the least squares solution in practice. It requires more computations than solving the normal equations, but it is significantly more stable.\n",
    "3. **Pseudoinverse**: This method is even more costly to compute than QR, but it is also the most reliable, so it is a good choice if you are not concerned about computing times (e.g. if the matrix is small). This would also be the preferred method if the matrix $A$ is not of full rank. "
   ]
  },
  {
   "cell_type": "code",
   "execution_count": null,
   "id": "c8ada689-1175-4e95-8a2b-f52825db5d8c",
   "metadata": {},
   "outputs": [],
   "source": []
  }
 ],
 "metadata": {
  "kernelspec": {
   "display_name": "Python 3 (ipykernel)",
   "language": "python",
   "name": "python3"
  },
  "language_info": {
   "codemirror_mode": {
    "name": "ipython",
    "version": 3
   },
   "file_extension": ".py",
   "mimetype": "text/x-python",
   "name": "python",
   "nbconvert_exporter": "python",
   "pygments_lexer": "ipython3",
   "version": "3.9.6"
  }
 },
 "nbformat": 4,
 "nbformat_minor": 5
}
