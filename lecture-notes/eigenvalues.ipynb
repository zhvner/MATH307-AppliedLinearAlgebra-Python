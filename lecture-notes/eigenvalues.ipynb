{
 "cells": [
  {
   "cell_type": "markdown",
   "id": "3defde2f-9c51-4681-b524-29df47095293",
   "metadata": {},
   "source": [
    "# Computing eigenvalues"
   ]
  },
  {
   "cell_type": "code",
   "execution_count": 1,
   "id": "d5d9fbe1-08c8-426f-8088-ac0d061a216b",
   "metadata": {},
   "outputs": [],
   "source": [
    "import numpy as np\n",
    "import scipy.linalg as la\n",
    "import matplotlib.pyplot as plt\n",
    "\n",
    "np.set_printoptions(suppress=True)"
   ]
  },
  {
   "cell_type": "markdown",
   "id": "a7c6c4da-4f1c-4c25-9a5d-3e4e758ea47b",
   "metadata": {},
   "source": [
    "## Power Iteration\n",
    "\n",
    "Suppose a matrix $A$ has a dominant eigenvalue $\\lambda_1$, meaning that $\\lambda_1$ has multiplicity 1 and $| \\lambda_1 | > | \\lambda |$ for all other eignvalues $\\lambda$. Choose a random starting vector $\\boldsymbol{x}_0$ and compute the (normalized) power iteration algorithm:\n",
    "\n",
    "$$\n",
    "\\boldsymbol{x}_{k+1} = \\frac{A \\boldsymbol{x}_k}{\\| A \\boldsymbol{x}_k \\|_{\\infty}}\n",
    "$$\n",
    "\n",
    "The result (usually) converges to an eigenvector for $\\lambda_1$, and the value $\\lambda_1$ can then be computed via the Rayleigh quotient \n",
    "\n",
    "$$\n",
    "\\lambda_1 \\approx \\frac{\\boldsymbol{x}^T A \\boldsymbol{x}}{\\boldsymbol{x}^T \\boldsymbol{x}}.\n",
    "$$\n",
    "\n",
    "The function below computes a given number of iterations in the power method. "
   ]
  },
  {
   "cell_type": "code",
   "execution_count": 2,
   "id": "810f73fb-7c03-46e7-b3d4-44bc577ca2b7",
   "metadata": {},
   "outputs": [],
   "source": [
    "def powerMethod(A, x0, iterations, showSteps=False):\n",
    "    xk = x0\n",
    "    for k in range(0,iterations):\n",
    "        if (showSteps):\n",
    "            print('k={0}\\n{1}\\n'.format(k,xk))\n",
    "        xk = A@xk\n",
    "        xk = xk/np.max(np.abs(xk))\n",
    "    return xk"
   ]
  },
  {
   "cell_type": "markdown",
   "id": "de914a49-4bc4-469e-8154-603953056d68",
   "metadata": {},
   "source": [
    "Let us test the algorithm on a $3\\times 3$ matrix. For this example, we will use\n",
    "\n",
    "$$\n",
    "A = \\begin{pmatrix} 1 & 1 & 0 \\\\ 2 & 1 & -1 \\\\ 0 & -1 & 1 \\end{pmatrix}. \n",
    "$$\n",
    "\n",
    "The starting vector $\\boldsymbol{x}_0$ can be chosen arbitrarily. "
   ]
  },
  {
   "cell_type": "code",
   "execution_count": 3,
   "id": "2cd1919b-9a63-44ec-a9b8-9b2b829346af",
   "metadata": {},
   "outputs": [],
   "source": [
    "A = np.array([[1,1,0],[2,1,-1],[0,-1,1]])\n",
    "x0 = np.array([[1],[0],[2.00001]])"
   ]
  },
  {
   "cell_type": "code",
   "execution_count": 4,
   "id": "952a5d34-2556-45f4-837e-86d7f818d818",
   "metadata": {},
   "outputs": [
    {
     "name": "stdout",
     "output_type": "stream",
     "text": [
      "k=0\n",
      "[[1.     ]\n",
      " [0.     ]\n",
      " [2.00001]]\n",
      "\n",
      "k=1\n",
      "[[ 0.4999975]\n",
      " [-0.000005 ]\n",
      " [ 1.       ]]\n",
      "\n",
      "k=2\n",
      "[[ 0.49999]\n",
      " [-0.00001]\n",
      " [ 1.     ]]\n",
      "\n",
      "k=3\n",
      "[[ 0.499975]\n",
      " [-0.00003 ]\n",
      " [ 1.      ]]\n",
      "\n",
      "k=4\n",
      "[[ 0.49993]\n",
      " [-0.00008]\n",
      " [ 1.     ]]\n",
      "\n",
      "[[ 0.49981002]\n",
      " [-0.00021997]\n",
      " [ 1.        ]]\n"
     ]
    }
   ],
   "source": [
    "xk = powerMethod(A, x0, 5, True)\n",
    "print(xk)"
   ]
  },
  {
   "cell_type": "markdown",
   "id": "d792f16a-6af6-41b4-8e0c-882c78416cd8",
   "metadata": {},
   "source": [
    "We can see that already after a few steps, the change is quite small for each iteration. Let's do a larger number of iterations."
   ]
  },
  {
   "cell_type": "code",
   "execution_count": 5,
   "id": "1da9ea2c-a399-4909-8bba-5519fa711310",
   "metadata": {},
   "outputs": [
    {
     "name": "stdout",
     "output_type": "stream",
     "text": [
      "[[-0.57735027]\n",
      " [-1.        ]\n",
      " [ 0.57735027]]\n"
     ]
    }
   ],
   "source": [
    "xk = powerMethod(A, x0, 50)\n",
    "print(xk)"
   ]
  },
  {
   "cell_type": "markdown",
   "id": "834a7f1f-2016-45a3-b649-00757ab64a32",
   "metadata": {},
   "source": [
    "Compute the Rayleigh quotient to approximate the corresponding eigenvalue:"
   ]
  },
  {
   "cell_type": "code",
   "execution_count": 6,
   "id": "d66d2c7a-30f8-4a62-b94f-128378c1630c",
   "metadata": {},
   "outputs": [
    {
     "data": {
      "text/plain": [
       "array([[2.73205081]])"
      ]
     },
     "execution_count": 6,
     "metadata": {},
     "output_type": "execute_result"
    }
   ],
   "source": [
    "xk.T @ A @ xk / (xk.T @ xk)"
   ]
  },
  {
   "cell_type": "markdown",
   "id": "06046178-5b39-4ad9-a7d5-b4a09b7d3cef",
   "metadata": {},
   "source": [
    "Since $A$ here is a $3\\times 3$ matrix, we are also able to find the exact eigenvalues and corresponding eigenvectors. We get that\n",
    "\n",
    "$$\n",
    "\\lambda_1 = 1 + \\sqrt{3} \\;\\approx 2.73205, \\qquad \\lambda_2 = 1, \\qquad \\lambda_3 = 1 - \\sqrt{3} \\;\\approx -0.73205\n",
    "$$\n",
    "$$\n",
    "\\boldsymbol{v}_1 = \\begin{pmatrix} 1 \\\\ \\sqrt{3} \\\\ -1 \\end{pmatrix}, \\qquad \n",
    "\\boldsymbol{v}_2 = \\begin{pmatrix} 1 \\\\ 0 \\\\ 2 \\end{pmatrix}, \\qquad \n",
    "\\boldsymbol{v}_3 = \\begin{pmatrix} -1 \\\\ \\sqrt{3} \\\\ 1 \\end{pmatrix}.\n",
    "$$ \n",
    "In particular, we can see that $\\lambda_1$ and $\\boldsymbol{v}_1$ agree with what we got numerically using the power method. "
   ]
  },
  {
   "cell_type": "markdown",
   "id": "ab504622-3b48-4564-b8af-bfb486e52c68",
   "metadata": {},
   "source": [
    "## Inverse Iteration\n",
    "\n",
    "Suppose the matrix $A$ is invertible (which it is in this case). Then the smallest eigenvalue $\\lambda_n$ (in absolute value) of $A$ corresponds to the dominant eigenvalue $1/\\lambda_n$ of $A^{-1}$. Choose a random starting vector $\\boldsymbol{x}_0$ and compute the (normalized) inverse iteration algorithm:\n",
    "\n",
    "$$\n",
    "A \\boldsymbol{y}_{k+1} = \\boldsymbol{x}_k, \\qquad\n",
    "\\boldsymbol{x}_{k+1} = \\frac{ \\boldsymbol{y}_{k+1} }{ \\| \\boldsymbol{y}_{k+1} \\|_{\\infty}}\n",
    "$$\n",
    "\n",
    "The result (usually) converges to an eigenvector of $A$ for $\\lambda_n$ (which is also an eigenvector of $A^{-1}$ for $1/\\lambda_n$). "
   ]
  },
  {
   "cell_type": "code",
   "execution_count": 7,
   "id": "802d390d-7f7e-49d9-8b6d-ada579bfb7cc",
   "metadata": {},
   "outputs": [],
   "source": [
    "def invIteration(A, x0, iterations, showSteps=False):\n",
    "    xk = x0\n",
    "    LU,P = la.lu_factor(A)\n",
    "    for k in range(0,iterations):\n",
    "        if (showSteps):\n",
    "            print('k={0}\\n{1}\\n'.format(k,xk))\n",
    "        xk = la.lu_solve((LU,P),xk)\n",
    "        xk = xk/np.max(np.abs(xk))\n",
    "    return xk"
   ]
  },
  {
   "cell_type": "code",
   "execution_count": 14,
   "id": "97efd49a-b2f9-4894-a7f2-603b25895aaa",
   "metadata": {},
   "outputs": [
    {
     "name": "stdout",
     "output_type": "stream",
     "text": [
      "[[-0.57735026]\n",
      " [ 1.        ]\n",
      " [ 0.57735029]]\n"
     ]
    }
   ],
   "source": [
    "xk = invIteration(A, x0, 100, False)\n",
    "print(xk)"
   ]
  },
  {
   "cell_type": "markdown",
   "id": "e14c009b-c923-4f12-9d19-922549e542a5",
   "metadata": {},
   "source": [
    "## QR Iteration\n",
    "\n",
    "This is an algorithm for computing all eigenvalues of a matrix. Start with the matrix $A_0 = A$. For each step $k$, find the QR decomposition $A_k = Q_k R_k$, and then compute $A_{k+1} = R_k Q_k$ and repeat. The matrices $A_k$ are similar and therefore they have the same eigenvalues. The result is an upper (block) triangular matrix with eigenvalues on the diagonal."
   ]
  },
  {
   "cell_type": "code",
   "execution_count": 15,
   "id": "9a0411c2-d3bc-4adb-b78b-6d7658f73035",
   "metadata": {},
   "outputs": [],
   "source": [
    "def QRMethod(A, iterations, showSteps=False):\n",
    "    Ak = A\n",
    "    for k in range(0,iterations):\n",
    "        if (showSteps):\n",
    "            print('A{0}\\n{1}\\n'.format(k,Ak))\n",
    "        Q,R = la.qr(Ak)\n",
    "        Ak = R @ Q\n",
    "    return Ak"
   ]
  },
  {
   "cell_type": "code",
   "execution_count": 16,
   "id": "a8c86a44-65e3-4779-bbf4-cee519da6dfd",
   "metadata": {},
   "outputs": [
    {
     "name": "stdout",
     "output_type": "stream",
     "text": [
      "A0\n",
      "[[ 1  1  0]\n",
      " [ 2  1 -1]\n",
      " [ 0 -1  1]]\n",
      "\n",
      "A1\n",
      "[[ 2.2        -1.38804419 -0.91287093]\n",
      " [-0.9797959   0.46666667 -0.74535599]\n",
      " [ 0.         -0.74535599  0.33333333]]\n",
      "\n",
      "A2\n",
      "[[ 2.79310345 -0.58600402 -0.24913644]\n",
      " [ 0.30842317  0.00689655 -0.70564229]\n",
      " [ 0.         -1.07703296  0.2       ]]\n",
      "\n",
      "[[ 2.72925764  0.2659106   0.9061212 ]\n",
      " [ 0.11846865  0.31422062 -1.05443664]\n",
      " [ 0.         -0.65794548 -0.04347826]]\n"
     ]
    }
   ],
   "source": [
    "print( QRMethod(A, 3, showSteps=True) )"
   ]
  },
  {
   "cell_type": "markdown",
   "id": "050b3bcc-f590-4401-8c39-5295dc27db70",
   "metadata": {},
   "source": [
    "Increase the number of iterations:"
   ]
  },
  {
   "cell_type": "code",
   "execution_count": 17,
   "id": "6c2fe5c3-3b7a-402c-ab3f-aef31a4fc189",
   "metadata": {},
   "outputs": [
    {
     "name": "stdout",
     "output_type": "stream",
     "text": [
      "[[ 2.73205081 -0.35355339  0.82158384]\n",
      " [ 0.          1.         -0.4472136 ]\n",
      " [ 0.         -0.         -0.73205081]]\n"
     ]
    }
   ],
   "source": [
    "print( QRMethod(A, 75) )"
   ]
  },
  {
   "cell_type": "markdown",
   "id": "29eb43c8-f7df-41ac-a002-3751be35f47e",
   "metadata": {},
   "source": [
    "We can see the eigenvalues of $A$ on the diagonal of the matrix $A_k$.\n",
    "\n",
    "\n"
   ]
  },
  {
   "cell_type": "markdown",
   "id": "1994c8ba-7821-4e61-889a-4eb5e0fd91f2",
   "metadata": {},
   "source": [
    "## PageRank example\n",
    "\n",
    "One situation where we can apply the power method is when finding the PageRank vector of a given directed graph. This method has (at least previously) been used by Google to rank webpages that match a search query in order to provide the most relevant results. In this example, let's consider the graph below. "
   ]
  },
  {
   "attachments": {
    "77663c6f-e144-44a1-bcc0-c4ae7fd4bcb2.png": {
     "image/png": "[encoded data removed]"
    }
   },
   "cell_type": "markdown",
   "id": "4d228423-d22e-445d-90e1-4757f5f71120",
   "metadata": {},
   "source": [
    "![directedgraph.png](attachment:77663c6f-e144-44a1-bcc0-c4ae7fd4bcb2.png)"
   ]
  },
  {
   "cell_type": "markdown",
   "id": "7fb97edf-9c45-4eb6-abd6-cdfc837ff112",
   "metadata": {},
   "source": [
    "The corresponding transition matrix $P$ (a stochastic matrix) is given by\n",
    "\n",
    "$$\n",
    "P = \\begin{pmatrix} \n",
    "0   & 0   & 1/2 & 0 & 1/2 \\\\ \n",
    "1/3 & 0   & 0   & 0 & 0   \\\\ \n",
    "0   & 1/2 & 0   & 1 & 1/2 \\\\ \n",
    "1/3 & 1/2 & 0   & 0 & 0   \\\\ \n",
    "1/3 & 0   & 1/2 & 0 & 0 \n",
    "\\end{pmatrix}\n",
    "$$\n",
    "\n",
    "where each entry $p_{i,j}$ denotes the probability of moving from vertex $j$ to vertex $i$ when selecting edges uniformly at random. In order to ensure that the power method will converge, we need to add a small modification. At each step, with probability $\\alpha$ we follow a link selected uniformly at random, while with probability $1-\\alpha$ we immediately jump to a randomly selected webpage. We get the Google matrix $$\\alpha P + (1-\\alpha)\\boldsymbol{v}\\boldsymbol{e}^T,$$ where $\\alpha\\in(0,1)$ is the teleportation factor, $\\boldsymbol{v}$ is the distribution of selecting a random page to jump to, and $\\boldsymbol{e}$ is a vector with all entries 1. Commonly $\\boldsymbol{v}$ is taken to be the uniform distribution over all vertices, in which case $\\boldsymbol{v}\\boldsymbol{e}^T$ is the $N\\times N$ matrix with every entry equal to $1/N$. "
   ]
  },
  {
   "cell_type": "code",
   "execution_count": 12,
   "id": "0e7202c8-8768-47dd-8176-f18315f18f47",
   "metadata": {},
   "outputs": [
    {
     "name": "stdout",
     "output_type": "stream",
     "text": [
      "[[0.03       0.03       0.455      0.03       0.455     ]\n",
      " [0.31333333 0.03       0.03       0.03       0.03      ]\n",
      " [0.03       0.455      0.03       0.88       0.455     ]\n",
      " [0.31333333 0.455      0.03       0.03       0.03      ]\n",
      " [0.31333333 0.03       0.455      0.03       0.03      ]]\n"
     ]
    }
   ],
   "source": [
    "P = np.array([[0,0,1/2,0,1/2],[1/3,0,0,0,0],[0,1/2,0,1,1/2],[1/3,1/2,0,0,0],[1/3,0,1/2,0,0]])\n",
    "ee = np.ones(5)\n",
    "vv = ee/5\n",
    "alpha = 0.85\n",
    "GM = alpha * P + (1-alpha) * np.outer(vv,ee)\n",
    "print(GM)"
   ]
  },
  {
   "cell_type": "markdown",
   "id": "127bcc81-e015-4f59-93e3-5dbe3beaedde",
   "metadata": {},
   "source": [
    "Any Google matrix has the dominant eigenvalue 1, and there is a unique stochastic vector $\\boldsymbol{x}$ which is a corresponding eigenvector. This is the PageRank vector, and each entry can be taken as a measure of the relative importance of a particular webpage, since that value represents the long term probability of visiting the page after a large number of steps in the \"random surfing\" process. "
   ]
  },
  {
   "cell_type": "code",
   "execution_count": 13,
   "id": "5b252ff7-16a2-4f0d-9e40-ed8a6d76a108",
   "metadata": {},
   "outputs": [
    {
     "name": "stdout",
     "output_type": "stream",
     "text": [
      "[0.24698816 0.09997998 0.2881266  0.14247147 0.22243378]\n"
     ]
    }
   ],
   "source": [
    "xpr = powerMethod(GM, vv, 50)\n",
    "print(xpr/np.sum(xpr))"
   ]
  },
  {
   "cell_type": "markdown",
   "id": "42852b9c-59c2-4840-8498-de2af886e7da",
   "metadata": {},
   "source": [
    "In this example, we can see that webpage 3 gets the highest PageRank weight, which seems reasonable given that it is the only page with links from at least three other pages. Webpages 1 and 5 are not very far behind, and this can partly be explained by the fact that they are the pages that receive links from the most important one (webpage 3). On the other hand, webpage 2 has a clearly lower number than the rest, being linked to only from a single other page. "
   ]
  },
  {
   "cell_type": "markdown",
   "id": "c7f32b8c-6258-4e8f-9d0a-05e63b0252cf",
   "metadata": {},
   "source": [
    "### A few comments\n",
    "\n",
    "In case there is a vertex without any outgoing edges (i.e. a webpage without any links at all), then the corresponding column in $P$ is replaced by $\\boldsymbol{v}$ before forming the Google matrix. This will ensure that the Google matrix is stochastic, i.e. in every column the entries add up to 1. \n",
    "\n",
    "On the role of the factor $\\alpha$:\n",
    "- If $\\alpha$ is small (close to 0), then for the most part we have completely random jumps, and so the webpage structure described in $P$ is \"lost\". This is clearly not good for ranking the webpages, so ideally we want a large $\\alpha$. \n",
    "- On the other hand if $\\alpha$ is too large (close to 1), the convergence gets very slow. Remember that if $\\alpha$ would equal 1 we might not get convergence at all.\n",
    "- The Google matrix is usually huge, with thousands or millions of webpages to be ranked, so even though the adjacency matrix is sparse (lots of zeros) we still don't want to do too many iterations. The value $\\alpha=0.85$ is frequently used, so probably it is considered some sort of optimal balance between structure and speed. \n",
    "\n",
    "To have a high value in the PageRank vector, it is helpful to receive links from a lot of other webpages, and/or to receive links from webpages that themselves have a very high PageRank value. This has led to some problems in the form of large websites with a high reputation selling links to other sites that are trying to boost their PageRank score. As this  does not necessarily make the other webpages any more relevant for the Google search queries, such a business is harmful for the efficiency of PageRank to produce good results. Google has tried to combat this manipulation by penalizing sites (e.g. lower their score) and updating their algorithms many times over the years. Today the actual method that Google uses is probably much different and more advanced than what is described briefly here. "
   ]
  },
  {
   "cell_type": "code",
   "execution_count": null,
   "id": "18c7baba-b29c-44cd-b6de-230c960941e4",
   "metadata": {},
   "outputs": [],
   "source": []
  }
 ],
 "metadata": {
  "kernelspec": {
   "display_name": "Python 3 (ipykernel)",
   "language": "python",
   "name": "python3"
  },
  "language_info": {
   "codemirror_mode": {
    "name": "ipython",
    "version": 3
   },
   "file_extension": ".py",
   "mimetype": "text/x-python",
   "name": "python",
   "nbconvert_exporter": "python",
   "pygments_lexer": "ipython3",
   "version": "3.11.4"
  }
 },
 "nbformat": 4,
 "nbformat_minor": 5
}
