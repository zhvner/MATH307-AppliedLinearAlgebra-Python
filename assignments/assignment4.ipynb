{
 "cells": [
  {
   "cell_type": "markdown",
   "id": "1416a3b9",
   "metadata": {
    "deletable": false,
    "editable": false,
    "nbgrader": {
     "cell_type": "markdown",
     "checksum": "a438048c1e98234cc4dd6b2cc5b1a560",
     "grade": false,
     "grade_id": "cell-33ad0071319e0863",
     "locked": true,
     "schema_version": 3,
     "solution": false,
     "task": false
    }
   },
   "source": [
    "# MATH 307 Assignment 4\n",
    "\n",
    "* See [Mathematical Python](https://www.math.ubc.ca/~pwalls/math-python/) for an introduction to Python and Jupyter\n",
    "* See [MATH 307 Jupyter Notebooks](https://ubcmath.github.io/MATH307/) for examples\n",
    "* Run the tests to verify your solutions but note there are **hidden tests**\n",
    "* Submit your `.ipynb` notebook file to Canvas"
   ]
  },
  {
   "cell_type": "code",
   "execution_count": null,
   "id": "acbc4e04",
   "metadata": {
    "deletable": false,
    "editable": false,
    "nbgrader": {
     "cell_type": "code",
     "checksum": "8de63ab521cd7b988a9b08afec7d05ea",
     "grade": false,
     "grade_id": "cell-23578e777d19e157",
     "locked": true,
     "schema_version": 3,
     "solution": false,
     "task": false
    }
   },
   "outputs": [],
   "source": [
    "import numpy as np\n",
    "import scipy.linalg as la\n",
    "import scipy.signal as ss\n",
    "import matplotlib.pyplot as plt\n",
    "from scipy.io import wavfile\n",
    "from IPython.display import Audio\n",
    "plt.rcParams[\"figure.figsize\"] = (18,5)"
   ]
  },
  {
   "cell_type": "markdown",
   "id": "1d015a71",
   "metadata": {
    "deletable": false,
    "editable": false,
    "nbgrader": {
     "cell_type": "markdown",
     "checksum": "429c40e3b2b42459c8d8a19ade94dbe1",
     "grade": false,
     "grade_id": "cell-003e065afab55378",
     "locked": true,
     "schema_version": 3,
     "solution": false,
     "task": false
    }
   },
   "source": [
    "## Problem 1 (6 marks)\n",
    "\n",
    "The code below creates a square wave with frequency $k$ periods per second using $N$ samples per second."
   ]
  },
  {
   "cell_type": "code",
   "execution_count": null,
   "id": "516292f4",
   "metadata": {
    "deletable": false,
    "editable": false,
    "nbgrader": {
     "cell_type": "code",
     "checksum": "ee8be67883e6778ed470f0f2c4afe8dc",
     "grade": false,
     "grade_id": "cell-8118cfd3c9bcf832",
     "locked": true,
     "schema_version": 3,
     "solution": false,
     "task": false
    }
   },
   "outputs": [],
   "source": [
    "N = 100\n",
    "t = np.arange(N)/N\n",
    "k = 2\n",
    "x_square = ss.square(2*np.pi*k*t)\n",
    "plt.stem(x_square)\n",
    "plt.grid(True)\n",
    "plt.show()"
   ]
  },
  {
   "cell_type": "markdown",
   "id": "ed9e9989",
   "metadata": {
    "deletable": false,
    "editable": false,
    "nbgrader": {
     "cell_type": "markdown",
     "checksum": "98bc31b3002bc251f2b92d3abc99e325",
     "grade": false,
     "grade_id": "cell-06dd077035cb7c23",
     "locked": true,
     "schema_version": 3,
     "solution": false,
     "task": false
    }
   },
   "source": [
    "(a) Create a square wave with frequency $k=8$ periods per second using with $N=128$ samples per second. Save the result as `x1`."
   ]
  },
  {
   "cell_type": "code",
   "execution_count": null,
   "id": "a2974c1a",
   "metadata": {
    "deletable": false,
    "nbgrader": {
     "cell_type": "code",
     "checksum": "48b29654a3600262534b73b032dde2b3",
     "grade": false,
     "grade_id": "cell-fe0d446dc88269fe",
     "locked": false,
     "schema_version": 3,
     "solution": true,
     "task": false
    }
   },
   "outputs": [],
   "source": [
    "# YOUR CODE HERE\n",
    "x1 = "
   ]
  },
  {
   "cell_type": "code",
   "execution_count": null,
   "id": "225c9e39",
   "metadata": {
    "deletable": false,
    "editable": false,
    "nbgrader": {
     "cell_type": "code",
     "checksum": "4d012f780409559725328f09f90c82ec",
     "grade": true,
     "grade_id": "cell-1ce313ce2e1c55f8",
     "locked": true,
     "points": 1,
     "schema_version": 3,
     "solution": false,
     "task": false
    }
   },
   "outputs": [],
   "source": [
    "\"Verify x1 is a NumPy array. (1 mark)\"\n",
    "assert isinstance(x1,np.ndarray)\n",
    "print(\"Problem 1a Test 1: Success!\")"
   ]
  },
  {
   "cell_type": "code",
   "execution_count": null,
   "id": "1cef0dc2",
   "metadata": {
    "deletable": false,
    "editable": false,
    "nbgrader": {
     "cell_type": "code",
     "checksum": "7721fa87b0473cf272aa07585f0eaf5a",
     "grade": true,
     "grade_id": "cell-270a334d5d47637e",
     "locked": true,
     "points": 1,
     "schema_version": 3,
     "solution": false,
     "task": false
    }
   },
   "outputs": [],
   "source": [
    "\"Verify the values of x1. This cell contains hidden tests. (1 mark)\"\n",
    "assert np.allclose(x1[6:10],[1,1,-1,-1])\n",
    "print(\"Problem 1a Test 2: Success!\")"
   ]
  },
  {
   "cell_type": "markdown",
   "id": "1f879683",
   "metadata": {
    "deletable": false,
    "editable": false,
    "nbgrader": {
     "cell_type": "markdown",
     "checksum": "e8875cafcc8720ffb88d2f4eb1ebb62a",
     "grade": false,
     "grade_id": "cell-89330cff0fa2fca0",
     "locked": true,
     "schema_version": 3,
     "solution": false,
     "task": false
    }
   },
   "source": [
    "Visualize the signal:"
   ]
  },
  {
   "cell_type": "code",
   "execution_count": null,
   "id": "bbb2a974",
   "metadata": {
    "deletable": false,
    "editable": false,
    "nbgrader": {
     "cell_type": "code",
     "checksum": "65ce3dab2ac915d25ed7cf221adabb1c",
     "grade": false,
     "grade_id": "cell-e443b633ebb4233e",
     "locked": true,
     "schema_version": 3,
     "solution": false,
     "task": false
    }
   },
   "outputs": [],
   "source": [
    "plt.stem(x1)\n",
    "plt.grid(True)\n",
    "plt.show()"
   ]
  },
  {
   "cell_type": "markdown",
   "id": "183c3065",
   "metadata": {
    "deletable": false,
    "editable": false,
    "nbgrader": {
     "cell_type": "markdown",
     "checksum": "9422d9e5743a25d375980ec3a5dfe40e",
     "grade": false,
     "grade_id": "cell-56f0a09879cecae9",
     "locked": true,
     "schema_version": 3,
     "solution": false,
     "task": false
    }
   },
   "source": [
    "(b) Compute the discrete Fourier transform of `x1` and save the result as `y1`."
   ]
  },
  {
   "cell_type": "code",
   "execution_count": null,
   "id": "3594a26a",
   "metadata": {
    "deletable": false,
    "nbgrader": {
     "cell_type": "code",
     "checksum": "95f8b9695d8f8f56fa1f1ebdce8b583b",
     "grade": false,
     "grade_id": "cell-80f837d7588ff005",
     "locked": false,
     "schema_version": 3,
     "solution": true,
     "task": false
    }
   },
   "outputs": [],
   "source": [
    "# YOUR CODE HERE\n",
    "y1 = "
   ]
  },
  {
   "cell_type": "code",
   "execution_count": null,
   "id": "de20ab97",
   "metadata": {
    "deletable": false,
    "editable": false,
    "nbgrader": {
     "cell_type": "code",
     "checksum": "ba4e76f28d4d640c4386004b4c2a0c00",
     "grade": true,
     "grade_id": "cell-22538064b1f82e97",
     "locked": true,
     "points": 1,
     "schema_version": 3,
     "solution": false,
     "task": false
    }
   },
   "outputs": [],
   "source": [
    "\"Verify y1 is a NumPy array with complex values. (1 mark)\"\n",
    "assert isinstance(y1,np.ndarray) and isinstance(y1[0],np.complex128)\n",
    "print(\"Problem 1b Test 1: Success!\")"
   ]
  },
  {
   "cell_type": "code",
   "execution_count": null,
   "id": "ab0afcd3",
   "metadata": {
    "deletable": false,
    "editable": false,
    "nbgrader": {
     "cell_type": "code",
     "checksum": "d5058feec69a15f38bec9cc3896bfc35",
     "grade": true,
     "grade_id": "cell-2d004d0e87ed9f31",
     "locked": true,
     "points": 1,
     "schema_version": 3,
     "solution": false,
     "task": false
    }
   },
   "outputs": [],
   "source": [
    "\"Verify the values of y1. This cell contains hidden tests. (1 mark)\"\n",
    "assert np.allclose(y1[1],1.0823922+2.61312593j)\n",
    "print(\"Problem 1a Test 2: Success!\")"
   ]
  },
  {
   "cell_type": "markdown",
   "id": "73330185",
   "metadata": {
    "deletable": false,
    "editable": false,
    "nbgrader": {
     "cell_type": "markdown",
     "checksum": "86fa3f9f742dc6840905d8e33c7b5a87",
     "grade": false,
     "grade_id": "cell-519d4e5e469e61fe",
     "locked": true,
     "schema_version": 3,
     "solution": false,
     "task": false
    }
   },
   "source": [
    "Visualize the result:"
   ]
  },
  {
   "cell_type": "code",
   "execution_count": null,
   "id": "ddf6f8a5",
   "metadata": {
    "deletable": false,
    "editable": false,
    "nbgrader": {
     "cell_type": "code",
     "checksum": "c4750b851a6f0f0550f3ef260fc0875e",
     "grade": false,
     "grade_id": "cell-961edc52e49016ab",
     "locked": true,
     "schema_version": 3,
     "solution": false,
     "task": false
    }
   },
   "outputs": [],
   "source": [
    "plt.stem(np.abs(y1))\n",
    "plt.grid(True)\n",
    "plt.show()"
   ]
  },
  {
   "cell_type": "markdown",
   "id": "dfbf2273",
   "metadata": {
    "deletable": false,
    "editable": false,
    "nbgrader": {
     "cell_type": "markdown",
     "checksum": "bf0199fa88fb152d4209da09a9d3bc80",
     "grade": false,
     "grade_id": "cell-13b6315b9ad1da5e",
     "locked": true,
     "schema_version": 3,
     "solution": false,
     "task": false
    }
   },
   "source": [
    "(c) The square wave `x1` is dominated by 4 main frequencies. Save the list of integers in increasing order (like `[1,2,3,4,5]`) as `x1_freqs`."
   ]
  },
  {
   "cell_type": "code",
   "execution_count": null,
   "id": "4e39b5c7",
   "metadata": {
    "deletable": false,
    "nbgrader": {
     "cell_type": "code",
     "checksum": "0d68af1645958a4de597a145a7ae4944",
     "grade": false,
     "grade_id": "cell-9deceba60b49a7a9",
     "locked": false,
     "schema_version": 3,
     "solution": true,
     "task": false
    }
   },
   "outputs": [],
   "source": [
    "# YOUR CODE HERE\n",
    "x1_freqs = "
   ]
  },
  {
   "cell_type": "code",
   "execution_count": null,
   "id": "68cd35c6",
   "metadata": {
    "deletable": false,
    "editable": false,
    "nbgrader": {
     "cell_type": "code",
     "checksum": "3f3d5bd1d87a432e9404efae15ca6b6b",
     "grade": true,
     "grade_id": "cell-931ec78e470dd627",
     "locked": true,
     "points": 1,
     "schema_version": 3,
     "solution": false,
     "task": false
    }
   },
   "outputs": [],
   "source": [
    "\"Verify x1_freqs is a list. (1 mark)\"\n",
    "assert isinstance(x1_freqs,list)\n",
    "print(\"Problem 1c Test 1: Success!\")"
   ]
  },
  {
   "cell_type": "code",
   "execution_count": null,
   "id": "fb8b51b6",
   "metadata": {
    "deletable": false,
    "editable": false,
    "nbgrader": {
     "cell_type": "code",
     "checksum": "01db2e71e8bfa6ccf3337cd974e214ba",
     "grade": true,
     "grade_id": "cell-47ffd7ea88941b6f",
     "locked": true,
     "points": 1,
     "schema_version": 3,
     "solution": false,
     "task": false
    }
   },
   "outputs": [],
   "source": [
    "\"Verify the values of x1_freqs. This cell contains hidden tests. (1 mark)\"\n",
    "assert np.allclose(x1_freqs[0],8)\n",
    "print(\"Problem 1c Test 2: Success!\")"
   ]
  },
  {
   "cell_type": "markdown",
   "id": "61a6f1ef",
   "metadata": {
    "deletable": false,
    "editable": false,
    "nbgrader": {
     "cell_type": "markdown",
     "checksum": "324a4eed9212ad2c7a8249eba24598e6",
     "grade": false,
     "grade_id": "cell-997f30f4d560847b",
     "locked": true,
     "schema_version": 3,
     "solution": false,
     "task": false
    }
   },
   "source": [
    "Just for fun ... the code below creates a C major 7 chord with square waves!"
   ]
  },
  {
   "cell_type": "code",
   "execution_count": null,
   "id": "a3e66174",
   "metadata": {
    "deletable": false,
    "editable": false,
    "nbgrader": {
     "cell_type": "code",
     "checksum": "8dc6644cb12a8bba29d952ce86dd6d5a",
     "grade": false,
     "grade_id": "cell-0cafa435607689c3",
     "locked": true,
     "schema_version": 3,
     "solution": false,
     "task": false
    }
   },
   "outputs": [],
   "source": [
    "N = 44100\n",
    "t = np.arange(N)/N\n",
    "ks = [261,330,392,494]\n",
    "chord = sum([ss.square(2*np.pi*k*t) for k in ks])\n",
    "Audio(chord,rate=N)"
   ]
  },
  {
   "cell_type": "markdown",
   "id": "d7561489",
   "metadata": {
    "deletable": false,
    "editable": false,
    "nbgrader": {
     "cell_type": "markdown",
     "checksum": "d44fb7fcdc365005221b20f659cfcef6",
     "grade": false,
     "grade_id": "cell-a12ad1478a399be7",
     "locked": true,
     "schema_version": 3,
     "solution": false,
     "task": false
    }
   },
   "source": [
    "## Problem 2 (5 marks)\n",
    "\n",
    "The cell below loads a sound file `example.wav` as a NumPy array `x2`, records the sample rate `rate` and then allows us to play the sound in the notebook. Note that the sound has some noise and our goal is to filter it out."
   ]
  },
  {
   "cell_type": "code",
   "execution_count": null,
   "id": "4ff67ef9",
   "metadata": {
    "deletable": false,
    "editable": false,
    "nbgrader": {
     "cell_type": "code",
     "checksum": "1d1adea961d0c24a9ec54a72ed7632c9",
     "grade": false,
     "grade_id": "cell-2d2a152c1a7ce82f",
     "locked": true,
     "schema_version": 3,
     "solution": false,
     "task": false
    }
   },
   "outputs": [],
   "source": [
    "rate,x2 = wavfile.read('example.wav')\n",
    "\n",
    "Audio(x2,rate=rate)"
   ]
  },
  {
   "cell_type": "markdown",
   "id": "7c0a32c8",
   "metadata": {
    "deletable": false,
    "editable": false,
    "nbgrader": {
     "cell_type": "markdown",
     "checksum": "849abbd7c50549a6d36729d59b709f71",
     "grade": false,
     "grade_id": "cell-bd91620cf5737770",
     "locked": true,
     "schema_version": 3,
     "solution": false,
     "task": false
    }
   },
   "source": [
    "(a) Compute the discrete Fourier transform of `x2` and save the result as `y2`."
   ]
  },
  {
   "cell_type": "code",
   "execution_count": null,
   "id": "e3f6a4e2",
   "metadata": {
    "deletable": false,
    "nbgrader": {
     "cell_type": "code",
     "checksum": "00f8fee27745964d0dedbb0b92d36db9",
     "grade": false,
     "grade_id": "cell-21050c278f0086c3",
     "locked": false,
     "schema_version": 3,
     "solution": true,
     "task": false
    }
   },
   "outputs": [],
   "source": [
    "# YOUR CODE HERE\n",
    "y2 = "
   ]
  },
  {
   "cell_type": "code",
   "execution_count": null,
   "id": "56168e57",
   "metadata": {
    "deletable": false,
    "editable": false,
    "nbgrader": {
     "cell_type": "code",
     "checksum": "b29c368f5c4e95b77b53722bf5cb3811",
     "grade": true,
     "grade_id": "cell-761538d25b11ed68",
     "locked": true,
     "points": 1,
     "schema_version": 3,
     "solution": false,
     "task": false
    }
   },
   "outputs": [],
   "source": [
    "\"Verify y2 is a NumPy array with complex values. (1 mark)\"\n",
    "assert isinstance(y2,np.ndarray) and isinstance(y2[0],np.complex128)\n",
    "print(\"Problem 2a Test 1: Success!\")"
   ]
  },
  {
   "cell_type": "code",
   "execution_count": null,
   "id": "3ad77be9",
   "metadata": {
    "deletable": false,
    "editable": false,
    "nbgrader": {
     "cell_type": "code",
     "checksum": "7084828e3bf1ba162b9a2e4e48bcac8d",
     "grade": true,
     "grade_id": "cell-84fd5eca0a3d79bc",
     "locked": true,
     "points": 2,
     "schema_version": 3,
     "solution": false,
     "task": false
    }
   },
   "outputs": [],
   "source": [
    "\"Verify the values of y2. This cell contains hidden tests. (2 marks)\"\n",
    "assert np.allclose(y2[0],-865729.2483320391)\n",
    "print(\"Problem 2a Test 2: Success!\")"
   ]
  },
  {
   "cell_type": "markdown",
   "id": "d092de58",
   "metadata": {
    "deletable": false,
    "editable": false,
    "nbgrader": {
     "cell_type": "markdown",
     "checksum": "68bdef5796a4750b0ea9930976c34c8d",
     "grade": false,
     "grade_id": "cell-00418a7ed2a6693e",
     "locked": true,
     "schema_version": 3,
     "solution": false,
     "task": false
    }
   },
   "source": [
    "(b) The cells below plot the magnitude of the first 300 frequencies in the Fourer transform `y2` and `y2_filtered`. Compute the inverse Fourier transform of `y2_filtered` and use `np.real` to convert the entries to real numbers and save the result as `x2_filtered`. Play the audio and see if it sounds less noisy."
   ]
  },
  {
   "cell_type": "code",
   "execution_count": null,
   "id": "12b5562f",
   "metadata": {
    "deletable": false,
    "editable": false,
    "nbgrader": {
     "cell_type": "code",
     "checksum": "606180435d32f621bcddd072b63c4cc9",
     "grade": false,
     "grade_id": "cell-1514e41ceba3fd8b",
     "locked": true,
     "schema_version": 3,
     "solution": false,
     "task": false
    }
   },
   "outputs": [],
   "source": [
    "plt.stem(np.abs(y2[:300]))\n",
    "plt.grid(True)\n",
    "plt.show()"
   ]
  },
  {
   "cell_type": "code",
   "execution_count": null,
   "id": "769bfe53",
   "metadata": {
    "deletable": false,
    "editable": false,
    "nbgrader": {
     "cell_type": "code",
     "checksum": "1d352776dbda02556d3353f00a26147f",
     "grade": false,
     "grade_id": "cell-cec16925f22a3b6f",
     "locked": true,
     "schema_version": 3,
     "solution": false,
     "task": false
    }
   },
   "outputs": [],
   "source": [
    "y2_filtered = y2.copy()\n",
    "y2_filtered[np.abs(y2) < 1e7] = 0.0\n",
    "\n",
    "plt.stem(np.abs(y2_filtered[:300]))\n",
    "plt.grid(True)\n",
    "\n",
    "plt.show()"
   ]
  },
  {
   "cell_type": "code",
   "execution_count": null,
   "id": "ec78d183",
   "metadata": {
    "deletable": false,
    "nbgrader": {
     "cell_type": "code",
     "checksum": "eca62d90cae0774da96be5e38d91c964",
     "grade": false,
     "grade_id": "cell-30a62d6e001779d1",
     "locked": false,
     "schema_version": 3,
     "solution": true,
     "task": false
    }
   },
   "outputs": [],
   "source": [
    "# YOUR CODE HERE\n",
    "x2_filtered = "
   ]
  },
  {
   "cell_type": "code",
   "execution_count": null,
   "id": "20b8fc19",
   "metadata": {
    "deletable": false,
    "editable": false,
    "nbgrader": {
     "cell_type": "code",
     "checksum": "cbe736be9b03024263c6f35a62863836",
     "grade": true,
     "grade_id": "cell-a0b0c2e750f77a0a",
     "locked": true,
     "points": 1,
     "schema_version": 3,
     "solution": false,
     "task": false
    }
   },
   "outputs": [],
   "source": [
    "\"Verify x2_filtered is a NumPy array with real values. (1 mark)\"\n",
    "assert isinstance(x2_filtered,np.ndarray) and isinstance(x2_filtered[0],np.float64)\n",
    "print(\"Problem 2b Test 1: Success!\")"
   ]
  },
  {
   "cell_type": "code",
   "execution_count": null,
   "id": "e13cf1c3",
   "metadata": {
    "deletable": false,
    "editable": false,
    "nbgrader": {
     "cell_type": "code",
     "checksum": "a77dbac628473342520d598a238764cb",
     "grade": true,
     "grade_id": "cell-27db3a40aeeefc4e",
     "locked": true,
     "points": 1,
     "schema_version": 3,
     "solution": false,
     "task": false
    }
   },
   "outputs": [],
   "source": [
    "\"Verify the values of x2_filtered. This cell contains hidden tests. (1 mark)\"\n",
    "assert np.allclose(x2_filtered[0],-2459.67554688)\n",
    "print(\"Problem 2b Test 2: Success!\")"
   ]
  },
  {
   "cell_type": "code",
   "execution_count": null,
   "id": "57e6c852",
   "metadata": {
    "deletable": false,
    "editable": false,
    "nbgrader": {
     "cell_type": "code",
     "checksum": "69dcd082f65735cde8d8a39b57fff9dc",
     "grade": false,
     "grade_id": "cell-ea835b381f0ad7db",
     "locked": true,
     "schema_version": 3,
     "solution": false,
     "task": false
    }
   },
   "outputs": [],
   "source": [
    "Audio(x2_filtered.real,rate=rate)"
   ]
  }
 ],
 "metadata": {
  "kernelspec": {
   "display_name": "Python 3 (ipykernel)",
   "language": "python",
   "name": "python3"
  },
  "language_info": {
   "codemirror_mode": {
    "name": "ipython",
    "version": 3
   },
   "file_extension": ".py",
   "mimetype": "text/x-python",
   "name": "python",
   "nbconvert_exporter": "python",
   "pygments_lexer": "ipython3",
   "version": "3.9.12"
  }
 },
 "nbformat": 4,
 "nbformat_minor": 5
}
